{
 "cells": [
  {
   "cell_type": "markdown",
   "metadata": {
    "id": "kJ6ssXaGJfGN"
   },
   "source": [
    "## CIND830 - Python Programming for Data Science  \n",
    "### Assignment 1 (10% of the final grade) \n",
    "### Due on July 11, 2022 11:59 PM "
   ]
  },
  {
   "cell_type": "markdown",
   "metadata": {
    "id": "UWjXw7DsJfGP"
   },
   "source": [
    "*****\n",
    "This is a Jupyter Notebook document that extends a simple formatting syntax for authoring HTML and PDF. Review [this](https://jupyter-notebook.readthedocs.io/en/stable/notebook.html) website for more details on using Jupyter Notebooks.\n",
    "\n",
    "Consider using a Jupyter Notebook platform to complete this assignment. Ensure using **Python 3.7 release or higher** then complete the assignment by inserting your Python code wherever seeing the string `#INSERT YOUR ANSWER HERE.`\n",
    "\n",
    "When you click the `File` button, from the top navigation bar, then select `Export Notebook to HTML`, an HTML document will be generated that includes both the assignment content and the output of any embedded Python code chunks.\n",
    "\n",
    "Use [these](https://www.ryerson.ca/courses/students/tutorials/assignments/) guidelines to submit **both** the IPYNB and the exported file (HTML). Failing to submit both files will be subject to mark deduction.\n",
    "\n",
    "Please be advised that you cannot get more than 100% in this assignment, and the **BONUS** question (if there is any) will only be graded if all other questions have been submitted."
   ]
  },
  {
   "cell_type": "markdown",
   "metadata": {
    "id": "jPrZqSxgSWNr"
   },
   "source": [
    "*****\n"
   ]
  },
  {
   "cell_type": "markdown",
   "metadata": {
    "id": "3uPMJmhY2U3z"
   },
   "source": [
    "### **Question 1  [25 pts]**:\n",
    "\n",
    "According to the Toronto Real Estate Trends and the Housing Market Report for June 2022 (published in https://www.zolo.ca/toronto-real-estate/trends) in June 2022, the average house price in GTA decreased to $1,187,564 in June 2022 with a month-to-month change rate of -4.7 percent. As of June 2022, Toronto housing data shows median days on market for a home is 14 days.\n",
    "\n",
    "```\n",
    "regionName = \"Greater Toronto Area\"\n",
    "juneAvePrice = 1187564\n",
    "changeRate = -0.047\n",
    "daysInMarket = 14\n",
    "decreasing = True\n",
    "```"
   ]
  },
  {
   "cell_type": "markdown",
   "metadata": {
    "id": "k1XAudGA7spo"
   },
   "source": [
    "**a) [5 pts]**  Use the built-in `print()` function to display the literal and type of the five variables listed above."
   ]
  },
  {
   "cell_type": "code",
   "execution_count": 1,
   "metadata": {
    "colab": {
     "base_uri": "https://localhost:8080/"
    },
    "execution": {
     "iopub.execute_input": "2022-06-22T21:28:33.716Z",
     "iopub.status.busy": "2022-06-22T21:28:33.707Z",
     "iopub.status.idle": "2022-06-22T21:28:33.726Z",
     "shell.execute_reply": "2022-06-22T21:28:33.596Z"
    },
    "id": "UjKW5a4a8Vcc",
    "outputId": "491ba053-ac50-46e3-a95e-8086168bca78"
   },
   "outputs": [
    {
     "name": "stdout",
     "output_type": "stream",
     "text": [
      "Greater Toronto Area\n",
      "1187564\n",
      "-0.047\n",
      "14\n",
      "True\n",
      "<class 'str'>\n",
      "<class 'int'>\n",
      "<class 'float'>\n",
      "<class 'int'>\n",
      "<class 'bool'>\n"
     ]
    }
   ],
   "source": [
    "regionName = \"Greater Toronto Area\"\n",
    "juneAvePrice = 1187564\n",
    "changeRate = -0.047\n",
    "daysInMarket = 14\n",
    "decreasing = True\n",
    "\n",
    "#Variable Literals\n",
    "print(regionName)\n",
    "print(juneAvePrice)\n",
    "print(changeRate)\n",
    "print(daysInMarket)\n",
    "print(decreasing)\n",
    "\n",
    "#Variable Types\n",
    "print(type(regionName))\n",
    "print(type(juneAvePrice))\n",
    "print(type(changeRate))\n",
    "print(type(daysInMarket))\n",
    "print(type(decreasing))"
   ]
  },
  {
   "cell_type": "markdown",
   "metadata": {
    "id": "OvyRQKZH7suk"
   },
   "source": [
    "**b) [5 pts]**  Suppose that the decrease rate stays the same in July 2022. Compute and display the new expected Average Selling Price for this month, and round up the result to the nearest whole number."
   ]
  },
  {
   "cell_type": "code",
   "execution_count": 2,
   "metadata": {
    "colab": {
     "base_uri": "https://localhost:8080/"
    },
    "execution": {
     "iopub.execute_input": "2022-06-22T21:28:33.748Z",
     "iopub.status.busy": "2022-06-22T21:28:33.739Z",
     "iopub.status.idle": "2022-06-22T21:28:33.758Z",
     "shell.execute_reply": "2022-06-22T21:28:33.606Z"
    },
    "id": "peRH_TLP7sM-",
    "outputId": "d12e39ee-a8cc-4f8f-910a-23df0fee34ba"
   },
   "outputs": [
    {
     "name": "stdout",
     "output_type": "stream",
     "text": [
      "1131748\n"
     ]
    }
   ],
   "source": [
    "changePrice = juneAvePrice*changeRate\n",
    "julyAvePrice = juneAvePrice+changePrice\n",
    "print(round(julyAvePrice))"
   ]
  },
  {
   "cell_type": "markdown",
   "metadata": {
    "id": "GRm1zgnDERyQ"
   },
   "source": [
    "**c) [5 pts]**  Compute and display the difference between the Average Selling Price in June 2022 and that in July 2022."
   ]
  },
  {
   "cell_type": "code",
   "execution_count": 3,
   "metadata": {
    "colab": {
     "base_uri": "https://localhost:8080/"
    },
    "execution": {
     "iopub.execute_input": "2022-06-22T21:28:33.776Z",
     "iopub.status.busy": "2022-06-22T21:28:33.769Z",
     "iopub.status.idle": "2022-06-22T21:28:33.785Z",
     "shell.execute_reply": "2022-06-22T21:28:33.615Z"
    },
    "id": "fGa7XLeHEU59",
    "outputId": "06c81f36-9fad-404c-fe63-23ae696c2fb4"
   },
   "outputs": [
    {
     "name": "stdout",
     "output_type": "stream",
     "text": [
      "55815.507999999914\n"
     ]
    }
   ],
   "source": [
    "avgSellingPriceDiff = juneAvePrice - julyAvePrice\n",
    "print(avgSellingPriceDiff)"
   ]
  },
  {
   "cell_type": "markdown",
   "metadata": {
    "id": "WAXwXsKgEam4"
   },
   "source": [
    "**d) [5 pts]**  Convert the variable `junAvePrice` to a floating-point number\n",
    "then display the new literal and type."
   ]
  },
  {
   "cell_type": "code",
   "execution_count": 4,
   "metadata": {
    "colab": {
     "base_uri": "https://localhost:8080/"
    },
    "execution": {
     "iopub.execute_input": "2022-06-22T21:28:33.802Z",
     "iopub.status.busy": "2022-06-22T21:28:33.796Z",
     "iopub.status.idle": "2022-06-22T21:28:33.810Z",
     "shell.execute_reply": "2022-06-22T21:28:33.623Z"
    },
    "id": "f3X8BPs7EbhV",
    "outputId": "a6ff9e89-8601-4d6f-f171-035a8e018d8d"
   },
   "outputs": [
    {
     "name": "stdout",
     "output_type": "stream",
     "text": [
      "1187564.0\n",
      "<class 'float'>\n"
     ]
    }
   ],
   "source": [
    "juneAvePrice = float(juneAvePrice)\n",
    "print(juneAvePrice)\n",
    "print(type(juneAvePrice))"
   ]
  },
  {
   "cell_type": "markdown",
   "metadata": {
    "id": "UMBHATcKEe0Q"
   },
   "source": [
    "**e) [5 pts]**  Given that `var1` is the `julyAvePrice` variable rounded up to the nearest whole number,\n",
    "and `var2` is the `changeRate` variable rounded to two decimal places.\n",
    "\n",
    "Print the following statement:\n",
    "The average selling price might be `var1` in July 2022, which is a `var2` month-to-month change rate."
   ]
  },
  {
   "cell_type": "code",
   "execution_count": 5,
   "metadata": {
    "colab": {
     "base_uri": "https://localhost:8080/"
    },
    "execution": {
     "iopub.execute_input": "2022-06-22T21:28:33.829Z",
     "iopub.status.busy": "2022-06-22T21:28:33.820Z",
     "iopub.status.idle": "2022-06-22T21:28:33.839Z",
     "shell.execute_reply": "2022-06-22T21:28:33.635Z"
    },
    "id": "dD8W3UeREiO_",
    "outputId": "3b96ab84-6d68-43cc-8a19-a1a6c745fe3a"
   },
   "outputs": [
    {
     "name": "stdout",
     "output_type": "stream",
     "text": [
      "The average selling price might be 1131748 in July 2022, which is a -0.05 month-to-month change rate.\n"
     ]
    }
   ],
   "source": [
    "var1 = round(julyAvePrice)\n",
    "var2 = round(changeRate,2)\n",
    "print(\"The average selling price might be\",var1,\"in July 2022, which is a\",var2,\"month-to-month change rate.\")"
   ]
  },
  {
   "cell_type": "markdown",
   "metadata": {
    "id": "BZD6AgLUvyE0"
   },
   "source": [
    "*****\n"
   ]
  },
  {
   "cell_type": "markdown",
   "metadata": {
    "id": "vh58EXD8vzfs"
   },
   "source": [
    "### Question 2  **[35 pts]**:\n",
    "\n",
    "**a) [15 pts]**  Write a Python program that accepts a list of marks then prints the letter grade and description according to the [Grading System](https://continuing.ryerson.ca/contentManagement.do?method=load&code=CM000034) of the Chang School of Continuing Education.\n",
    "\n",
    "For example, if the user enters `90, 120, -12, 71.5, 62.5`, the output would be as follows:\n",
    "\n",
    "| Mark | Letter Grade | Performance Description |\n",
    "|:-:|:-:|:-:|\n",
    "| 90 | A+ | Excellent |\n",
    "| 120 | Not Possible | Not Possible |\n",
    "| -12 | Not Possible | Not Possible |\n",
    "| 71.5 | B- | Good |\n",
    "| 62.5 | C | Satisfactory |"
   ]
  },
  {
   "cell_type": "code",
   "execution_count": 6,
   "metadata": {
    "colab": {
     "base_uri": "https://localhost:8080/"
    },
    "execution": {
     "iopub.execute_input": "2022-06-22T21:28:33.857Z",
     "iopub.status.busy": "2022-06-22T21:28:33.851Z",
     "iopub.status.idle": "2022-06-22T21:28:33.864Z",
     "shell.execute_reply": "2022-06-22T21:28:33.645Z"
    },
    "id": "p0kGfpOuv4C3",
    "outputId": "0589b189-eb9d-42cd-de43-8961e1a68b14"
   },
   "outputs": [
    {
     "name": "stdout",
     "output_type": "stream",
     "text": [
      "Enter the marks 90, 120, -12, 71.5, 62.5\n",
      "\n",
      "\n",
      "Mark\tLetter Grade\tPerformance Description\n",
      "90.0\tA+\t\tExcellent\n",
      "120.0\tNot Possible\tNot Possible\n",
      "-12.0\tNot Possible\tNot Possible\n",
      "71.5\tB-\t\tGood\n",
      "62.5\tC\t\tSatisfactory\n"
     ]
    }
   ],
   "source": [
    "marks = list(map(float,input(\"Enter the marks \").split(',')))\n",
    "print(\"\\n\")\n",
    "\n",
    "print(\"Mark\\tLetter Grade\\tPerformance Description\")\n",
    "\n",
    "for stdmarks in marks:\n",
    "  print(stdmarks,end=\"\\t\")\n",
    "  if 79 < stdmarks <= 100:\n",
    "    if 89 < stdmarks <= 100:\n",
    "      print(\"A+\",end=\"\\t\\t\")\n",
    "    elif 84 < stdmarks <= 89:\n",
    "      print(\"A\",end=\"\\t\\t\")\n",
    "    elif 79 < stdmarks <= 84:\n",
    "      print(\"A-\",end=\"\\t\\t\")\n",
    "    print(\"Excellent\")\n",
    "  elif 69 < stdmarks <= 79:\n",
    "    if 76 < stdmarks <= 79:\n",
    "      print(\"B+\",end=\"\\t\\t\")\n",
    "    elif 72 < stdmarks <= 76:\n",
    "      print(\"B\",end=\"\\t\\t\")\n",
    "    elif 69 < stdmarks <= 72:\n",
    "      print(\"B-\",end=\"\\t\\t\")\n",
    "    print(\"Good\")\n",
    "  elif 59 < stdmarks <= 69:\n",
    "    if 66 < stdmarks <= 69:\n",
    "      print(\"C+\",end=\"\\t\\t\")\n",
    "    elif 62 < stdmarks <= 66:\n",
    "      print(\"C\",end=\"\\t\\t\")\n",
    "    elif 59 < stdmarks <= 62:\n",
    "      print(\"C-\",end=\"\\t\\t\")\n",
    "    print(\"Satisfactory\")\n",
    "  elif 49 < stdmarks <= 59:\n",
    "    if 56 < stdmarks <= 59:\n",
    "      print(\"D+\",end=\"\\t\\t\")\n",
    "    elif 52 < stdmarks <= 56:\n",
    "      print(\"D\",end=\"\\t\\t\")\n",
    "    elif 49 < stdmarks <= 52:\n",
    "      print(\"D-\",end=\"\\t\\t\")\n",
    "    print(\"Marginal\")\n",
    "  elif 0 <= stdmarks <= 49:\n",
    "    print(\"F\\t\\tUnsatisfactory\")\n",
    "  else:\n",
    "    print(\"Not Possible\\tNot Possible\")"
   ]
  },
  {
   "cell_type": "markdown",
   "metadata": {
    "id": "ifJDm_q6v7sx"
   },
   "source": [
    "**b)**  **[10 pts]** Write a code to compute and print the sum of squares of only the `Excellent` marks.\n",
    "\n",
    "For example, if the user enters `90.5, 120, -12, 71.3, 82.2, 62.5`, then the output should be: <br>\n",
    "`The Excellent marks are:  90.5, 82.2`<br>\n",
    "`The sum of squares is  14947.09`"
   ]
  },
  {
   "cell_type": "code",
   "execution_count": 7,
   "metadata": {
    "colab": {
     "base_uri": "https://localhost:8080/"
    },
    "execution": {
     "iopub.execute_input": "2022-06-22T21:28:33.882Z",
     "iopub.status.busy": "2022-06-22T21:28:33.874Z",
     "iopub.status.idle": "2022-06-22T21:28:33.892Z",
     "shell.execute_reply": "2022-06-22T21:28:33.655Z"
    },
    "id": "-myLIFuPv97v",
    "outputId": "6c9accd8-f6dc-46e3-cea9-d5ed10bcd2f7"
   },
   "outputs": [
    {
     "name": "stdout",
     "output_type": "stream",
     "text": [
      "Enter the marks 90.5, 120, -12, 71.3, 82.2, 62.5\n",
      "The Excellent marks are: 90.5, 82.2\n",
      "The sum of squares is 14947.09\n"
     ]
    }
   ],
   "source": [
    "marks = list(map(float,input(\"Enter the marks \").split(',')))\n",
    "\n",
    "squareSums = 0\n",
    "\n",
    "exmarks=[]\n",
    "for stdmarks in marks:\n",
    "  if 79<stdmarks<=100 :\n",
    "    exmarks.append(stdmarks)\n",
    "    squareSums += stdmarks **2\n",
    "\n",
    "print(\"The Excellent marks are:\", ', '.join(map(str,exmarks)))\n",
    "print(\"The sum of squares is\",squareSums)"
   ]
  },
  {
   "cell_type": "markdown",
   "metadata": {
    "id": "aobW_LU8wF8f"
   },
   "source": [
    "**c)**  **[10 pts]** Write a code to compute and print the `Median`, `Average` and `Variance` of the marks between 0 and 100, inclusively, after rounding each mark to the nearest integer.\n",
    "\n",
    "For example, if the user enters `59.8, 60, 29.5, 30, 50, 200`, then the output should be: <br>\n",
    "`The valid marks are:  60, 60, 30, 30, 50 `<br>\n",
    "`Median is 50 ; Average is 46 ; Variance is 230`\n",
    "\n",
    "Hint: Use the [statistics](https://docs.python.org/3.8/library/statistics.html) module as it provides functions to calculate mathematical statistics of numeric data."
   ]
  },
  {
   "cell_type": "code",
   "execution_count": 8,
   "metadata": {
    "colab": {
     "base_uri": "https://localhost:8080/"
    },
    "execution": {
     "iopub.execute_input": "2022-06-22T21:28:33.907Z",
     "iopub.status.busy": "2022-06-22T21:28:33.901Z",
     "iopub.status.idle": "2022-06-22T21:28:33.913Z",
     "shell.execute_reply": "2022-06-22T21:28:33.667Z"
    },
    "id": "X4ZepoB3wIWJ",
    "outputId": "668a95ff-c70b-4d41-b212-2208e9a7b1b5"
   },
   "outputs": [
    {
     "name": "stdout",
     "output_type": "stream",
     "text": [
      "Enter the marks 59.8, 60, 29.5, 30, 50, 200\n",
      "The valid marks are: 60, 60, 30, 30, 50\n",
      "Median is 50 ; Average is 46 ; Variance is 230\n"
     ]
    }
   ],
   "source": [
    "import statistics\n",
    "marks = list(map(float,input(\"Enter the marks \").split(',')))\n",
    "\n",
    "rmarks=[]\n",
    "for stdmarks in marks:\n",
    "  if 0<=stdmarks<=100:\n",
    "    rmarks.append(round(stdmarks))\n",
    "\n",
    "print(\"The valid marks are:\", ', '.join(map(str, rmarks)))\n",
    "\n",
    "print(\"Median is\", statistics.median(rmarks), \"; Average is\", statistics.mean(rmarks), \"; Variance is\", statistics.variance(rmarks))"
   ]
  },
  {
   "cell_type": "markdown",
   "metadata": {
    "id": "EU4Bf0ZsTDBH"
   },
   "source": [
    "****"
   ]
  },
  {
   "cell_type": "markdown",
   "metadata": {
    "id": "YEIiURX5TGOT"
   },
   "source": [
    "### Question 3  **[40 pts]**:\n",
    "Write a program that accepts the lengths of three sides of a triangle as inputs then prints the type and compute the properties of the triangle according to the listed conditions and mathematical formulae.\n",
    "\n",
    "**a)**  **[20 pts]** Ensure that all side lengths are positive and the sum of any two side lengths is greater than the third side length."
   ]
  },
  {
   "cell_type": "code",
   "execution_count": 9,
   "metadata": {
    "colab": {
     "base_uri": "https://localhost:8080/"
    },
    "execution": {
     "iopub.execute_input": "2022-06-22T21:28:33.930Z",
     "iopub.status.busy": "2022-06-22T21:28:33.922Z",
     "iopub.status.idle": "2022-06-22T21:28:33.940Z",
     "shell.execute_reply": "2022-06-22T21:28:33.676Z"
    },
    "id": "5o1mh7kyTghP",
    "outputId": "24f8c61a-1bd5-4214-8481-0b4b4ceed183"
   },
   "outputs": [
    {
     "name": "stdout",
     "output_type": "stream",
     "text": [
      "Enter the Length of the First Side 4\n",
      "Enter the Length of the Second Side 5\n",
      "Enter the Length of the Third Side 6\n",
      "All Side Lengths are Positive\n",
      "Sum of Lengths of any two sides is greater than the third side length. Triangle is valid & exists.\n"
     ]
    }
   ],
   "source": [
    "length1 = float(input(\"Enter the Length of the First Side \"))\n",
    "length2 = float(input(\"Enter the Length of the Second Side \"))\n",
    "length3 = float(input(\"Enter the Length of the Third Side \"))\n",
    "\n",
    "if length1<1 or length2<1 or length3<1:\n",
    "  print(\"Please enter Positive Lengths\")\n",
    "  raise SystemExit\n",
    "else:\n",
    "  print(\"All Side Lengths are Positive\")  \n",
    "\n",
    "if length1+length2>length3 and length2+length3>length1 and length3+length1>length2:\n",
    "  print(\"Sum of Lengths of any two sides is greater than the third side length. Triangle is valid & exists.\")\n",
    "else:\n",
    "  print(\"Sum of Lengths of any two sides is not greater than the third side length. Triangle does not exists.\\nPlease enter Valid Triangle Side Lengths\")\n",
    "  raise SystemExit"
   ]
  },
  {
   "cell_type": "markdown",
   "metadata": {
    "id": "tkT23fCfTjiN"
   },
   "source": [
    "**b)**  **[20 pts]** Display the type of the triangle according to the following restrictions:\n",
    "\n",
    "Equilateral Triangle: If the triangle has three congruent sides.\n",
    "\n",
    "Isosceles Triangle: If the triangle has two equal sides.\n",
    " \n",
    "Scalene Triangle: If the triangle has no congruent sides, and each side have a different length.\n",
    " \n",
    "Right Triangle: If the square of one side equals the sum of the squares of the other\n",
    "two sides."
   ]
  },
  {
   "cell_type": "code",
   "execution_count": 10,
   "metadata": {
    "colab": {
     "base_uri": "https://localhost:8080/"
    },
    "execution": {
     "iopub.execute_input": "2022-06-22T21:28:33.958Z",
     "iopub.status.busy": "2022-06-22T21:28:33.951Z",
     "iopub.status.idle": "2022-06-22T21:28:33.964Z",
     "shell.execute_reply": "2022-06-22T21:28:33.685Z"
    },
    "id": "SwivY0pFTnA3",
    "outputId": "98ca1ff2-8e75-4063-ba66-32a30ec4bd6e"
   },
   "outputs": [
    {
     "name": "stdout",
     "output_type": "stream",
     "text": [
      "Enter the Length of the First Side 4\n",
      "Enter the Length of the Second Side 5\n",
      "Enter the Length of the Third Side 6\n",
      "It is a Scalene Triangle\n"
     ]
    }
   ],
   "source": [
    "length1 = float(input(\"Enter the Length of the First Side \"))\n",
    "length2 = float(input(\"Enter the Length of the Second Side \"))\n",
    "length3 = float(input(\"Enter the Length of the Third Side \"))\n",
    "\n",
    "if length1<1 or length2<1 or length3<1:\n",
    "  print(\"Please enter Positive Lengths\")\n",
    "  raise SystemExit \n",
    "\n",
    "if not(length1+length2>length3 and length2+length3>length1 and length3+length1>length2):\n",
    "  print(\"Sum of Lengths of any two sides is not greater than the third side length. Triangle does not exists.\\nPlease enter Valid Triangle Side Lengths\")\n",
    "  raise SystemExit\n",
    "\n",
    "if length1 == length2 == length3:\n",
    "  print(\"It is an Equilateral Triangle\")\n",
    "elif length1 == length2 or length2 == length3 or length3 == length1:\n",
    "  print(\"It is an Isosceles Triangle\")\n",
    "  if length1**2==length2**2+length3**2 or length2**2==length3**2+length1**2 or length3**2==length1**2+length2**2:\n",
    "    print(\"It is also a Right Triangle\")\n",
    "elif length1 != length2 != length3:\n",
    "  print(\"It is a Scalene Triangle\")\n",
    "  if length1**2==length2**2+length3**2 or length2**2==length3**2+length1**2 or length3**2==length1**2+length2**2:\n",
    "    print(\"It is also a Right Triangle\")\n"
   ]
  },
  {
   "cell_type": "markdown",
   "metadata": {
    "id": "MS4zegKigy6u"
   },
   "source": [
    "#### This is the end of assignment 1"
   ]
  },
  {
   "cell_type": "code",
   "execution_count": null,
   "metadata": {},
   "outputs": [],
   "source": []
  }
 ],
 "metadata": {
  "colab": {
   "collapsed_sections": [],
   "name": "CIND830_Summer22_Assignment1_Q.ipynb",
   "provenance": []
  },
  "kernelspec": {
   "display_name": "Python 3 (ipykernel)",
   "language": "python",
   "name": "python3"
  },
  "language_info": {
   "codemirror_mode": {
    "name": "ipython",
    "version": 3
   },
   "file_extension": ".py",
   "mimetype": "text/x-python",
   "name": "python",
   "nbconvert_exporter": "python",
   "pygments_lexer": "ipython3",
   "version": "3.9.7"
  },
  "nteract": {
   "version": "0.28.0"
  },
  "varInspector": {
   "cols": {
    "lenName": 16,
    "lenType": 16,
    "lenVar": 40
   },
   "kernels_config": {
    "python": {
     "delete_cmd_postfix": "",
     "delete_cmd_prefix": "del ",
     "library": "var_list.py",
     "varRefreshCmd": "print(var_dic_list())"
    },
    "r": {
     "delete_cmd_postfix": ") ",
     "delete_cmd_prefix": "rm(",
     "library": "var_list.r",
     "varRefreshCmd": "cat(var_dic_list()) "
    }
   },
   "types_to_exclude": [
    "module",
    "function",
    "builtin_function_or_method",
    "instance",
    "_Feature"
   ],
   "window_display": false
  }
 },
 "nbformat": 4,
 "nbformat_minor": 1
}
